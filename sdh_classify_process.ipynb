{
 "cells": [
  {
   "cell_type": "code",
   "execution_count": 1,
   "metadata": {},
   "outputs": [],
   "source": [
    "from pathlib import Path\n",
    "Path(\"HistoQuant/SDH_classify/train/\").mkdir(parents=True, exist_ok=True)\n",
    "Path(\"HistoQuant/SDH_classify/test/\").mkdir(parents=True, exist_ok=True)\n",
    "Path(\"HistoQuant/SDH_classify/validation/\").mkdir(parents=True, exist_ok=True)\n",
    "Path(\"HistoQuant/SDH_classify/results\").mkdir(parents=True, exist_ok=True)"
   ]
  },
  {
   "cell_type": "code",
   "execution_count": 2,
   "metadata": {},
   "outputs": [],
   "source": [
    "import numpy as np\n",
    "import glob\n",
    "from sklearn.model_selection import train_test_split\n",
    "\n",
    "np.random.seed(42)\n",
    "all_ctrl_img = glob.glob(\"HistoQuant/SDH_classify/raw/control/*\")\n",
    "all_sick_img = glob.glob(\"HistoQuant/SDH_classify/raw/positive/*\")\n",
    "trainval_ctrl, test_ctrl = train_test_split(all_ctrl_img, train_size=0.80, random_state=42)\n",
    "trainval_sick, test_sick = train_test_split(all_sick_img, train_size=0.80, random_state=42)\n",
    "train_ctrl, val_ctrl = train_test_split(trainval_ctrl, train_size=0.90, random_state=42)\n",
    "train_sick, val_sick = train_test_split(trainval_sick, train_size=0.90, random_state=42)"
   ]
  },
  {
   "cell_type": "code",
   "execution_count": 3,
   "metadata": {},
   "outputs": [],
   "source": [
    "import shutil\n",
    "\n",
    "for img in train_ctrl:\n",
    "    filename = img.split(\"/\")[-1]\n",
    "    filename_label = \"0_\" + filename\n",
    "    shutil.copy(img, \"HistoQuant/SDH_classify/train/\"+filename_label)\n",
    "for img in train_sick:\n",
    "    filename = img.split(\"/\")[-1]\n",
    "    filename_label = \"1_\" + filename\n",
    "    shutil.copy(img, \"HistoQuant/SDH_classify/train/\"+filename_label)\n",
    "for img in val_ctrl:\n",
    "    filename = img.split(\"/\")[-1]\n",
    "    filename_label = \"0_\" + filename\n",
    "    shutil.copy(img, \"HistoQuant/SDH_classify/validation/\"+filename_label)\n",
    "for img in val_sick:\n",
    "    filename = img.split(\"/\")[-1]\n",
    "    filename_label = \"1_\" + filename\n",
    "    shutil.copy(img, \"HistoQuant/SDH_classify/validation/\"+filename_label)\n",
    "for img in test_ctrl:\n",
    "    filename = img.split(\"/\")[-1]\n",
    "    filename_label = \"0_\" + filename\n",
    "    shutil.copy(img, \"HistoQuant/SDH_classify/test/\"+filename_label)\n",
    "for img in test_sick:\n",
    "    filename = img.split(\"/\")[-1]\n",
    "    filename_label = \"1_\" + filename\n",
    "    shutil.copy(img, \"HistoQuant/SDH_classify/test/\"+filename_label)\n"
   ]
  }
 ],
 "metadata": {
  "kernelspec": {
   "display_name": "Python 3.9.7 ('histoquant-cknpwBRB-py3.9')",
   "language": "python",
   "name": "python3"
  },
  "language_info": {
   "codemirror_mode": {
    "name": "ipython",
    "version": 3
   },
   "file_extension": ".py",
   "mimetype": "text/x-python",
   "name": "python",
   "nbconvert_exporter": "python",
   "pygments_lexer": "ipython3",
   "version": "3.9.7"
  },
  "orig_nbformat": 4,
  "vscode": {
   "interpreter": {
    "hash": "689bda845cc3858772ee66d7122f5116724a23904d9fb1584d25d172e693c0e3"
   }
  }
 },
 "nbformat": 4,
 "nbformat_minor": 2
}
