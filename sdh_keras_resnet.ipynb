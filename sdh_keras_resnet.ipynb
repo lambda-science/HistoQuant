{
 "cells": [
  {
   "cell_type": "code",
   "execution_count": null,
   "metadata": {},
   "outputs": [],
   "source": [
    "BASE_FOLDER = \"HistoQuant/SDH_classify/\""
   ]
  },
  {
   "cell_type": "code",
   "execution_count": null,
   "metadata": {},
   "outputs": [],
   "source": [
    "from tensorflow.keras.applications.resnet50 import ResNet50\n",
    "from tensorflow.keras.preprocessing import image\n",
    "from tensorflow.keras.applications.resnet50 import preprocess_input, decode_predictions\n",
    "import numpy as np"
   ]
  },
  {
   "cell_type": "code",
   "execution_count": null,
   "metadata": {},
   "outputs": [],
   "source": [
    "import glob\n",
    "import numpy as np\n",
    "from PIL import Image\n",
    "import tensorflow as tf\n",
    "from tensorflow.image import resize_with_crop_or_pad\n",
    "\n",
    "def generate_data_arrays(BASE_FOLDER):\n",
    "    n_train = len(glob.glob(BASE_FOLDER+\"train/*.tif\"))\n",
    "    n_val = len(glob.glob(BASE_FOLDER+\"validation/*.tif\"))\n",
    "    n_test = len(glob.glob(BASE_FOLDER+\"test/*.tif\"))\n",
    "    counter = 0\n",
    "    train_images = np.empty(shape=(n_train, 224, 224, 3), dtype=np.float32)\n",
    "    train_labels = np.empty(shape=(n_train, 1), dtype=np.int8)\n",
    "    val_images = np.empty(shape=(n_val, 224, 224, 3), dtype=np.float32)\n",
    "    val_labels = np.empty(shape=(n_val, 1), dtype=np.int8)\n",
    "    test_images = np.empty(shape=(n_test, 224, 224, 3), dtype=np.float32)\n",
    "    test_labels = np.empty(shape=(n_test, 1), dtype=np.int8)\n",
    "\n",
    "    for image in glob.glob(BASE_FOLDER+\"train/*.tif\"):\n",
    "        im = np.asarray(Image.open(image))\n",
    "        im_resized = resize_with_crop_or_pad(im, 224, 224)\n",
    "        train_images[counter] = im_resized\n",
    "        train_labels[counter] = int(image.split(\"/\")[-1].split(\"_\")[0])\n",
    "        counter += 1\n",
    "    \n",
    "    counter = 0\n",
    "    for image in glob.glob(BASE_FOLDER+\"validation/*.tif\"):\n",
    "        im = np.asarray(Image.open(image))\n",
    "        im_resized = resize_with_crop_or_pad(im, 224, 224)\n",
    "        val_images[counter] = im_resized\n",
    "        val_labels[counter] = int(image.split(\"/\")[-1].split(\"_\")[0])\n",
    "        counter += 1\n",
    "    \n",
    "    counter = 0\n",
    "    for image in glob.glob(BASE_FOLDER+\"test/*.tif\"):\n",
    "        im = np.asarray(Image.open(image))\n",
    "        im_resized = resize_with_crop_or_pad(im, 224, 224)\n",
    "        test_images[counter] = im_resized\n",
    "        test_labels[counter] = int(image.split(\"/\")[-1].split(\"_\")[0])\n",
    "        counter += 1\n",
    "\n",
    "    return train_images, train_labels, val_images, val_labels, test_images, test_labels"
   ]
  },
  {
   "cell_type": "code",
   "execution_count": null,
   "metadata": {},
   "outputs": [],
   "source": [
    "# model = ResNet50(weights='imagenet')\n",
    "# model.summary()\n",
    "train_images, train_labels, val_images, val_labels, test_images, test_labels = generate_data_arrays(BASE_FOLDER)"
   ]
  },
  {
   "cell_type": "code",
   "execution_count": null,
   "metadata": {},
   "outputs": [],
   "source": [
    "train_images, val_images, test_images = train_images/255.0, val_images/255.0, test_images/255.0"
   ]
  },
  {
   "cell_type": "code",
   "execution_count": null,
   "metadata": {},
   "outputs": [],
   "source": [
    "class_weights_numpy = np.unique(train_labels, return_counts=True)\n",
    "n_train = len(train_labels)\n",
    "class_weights = {class_weights_numpy[0][0]: class_weights_numpy[1][0]/n_train, class_weights_numpy[0][1]: class_weights_numpy[1][1]/n_train}"
   ]
  },
  {
   "cell_type": "code",
   "execution_count": null,
   "metadata": {},
   "outputs": [],
   "source": [
    "import matplotlib.pyplot as plt\n",
    "class_names = ['Healthy', 'Sick']\n",
    "\n",
    "plt.figure(figsize=(10,10))\n",
    "counter = 0\n",
    "for i in np.random.choice(range(len(train_images)),25):\n",
    "    plt.subplot(5,5,counter+1)\n",
    "    plt.xticks([])\n",
    "    plt.yticks([])\n",
    "    plt.grid(False)\n",
    "    plt.imshow(train_images[i])\n",
    "    # The CIFAR labels happen to be arrays, \n",
    "    # which is why you need the extra index\n",
    "    plt.xlabel(class_names[train_labels[i][0]])\n",
    "    counter +=1\n",
    "plt.show()\n"
   ]
  },
  {
   "cell_type": "code",
   "execution_count": null,
   "metadata": {},
   "outputs": [],
   "source": [
    "import tensorflow as tf\n",
    "from tensorflow.keras import layers, models\n",
    "model = models.Sequential()\n",
    "model.add(layers.Conv2D(32, (3, 3), activation='relu', input_shape=(224, 224, 3)))\n",
    "model.add(layers.MaxPooling2D((2, 2)))\n",
    "model.add(layers.Conv2D(64, (3, 3), activation='relu'))\n",
    "model.add(layers.MaxPooling2D((2, 2)))\n",
    "model.add(layers.Conv2D(64, (3, 3), activation='relu'))\n",
    "model.add(layers.Dropout(0.2))\n",
    "model.add(layers.Flatten())\n",
    "model.add(layers.Dense(64, activation='relu'))\n",
    "model.add(layers.Dense(2))\n",
    "model.summary()"
   ]
  },
  {
   "cell_type": "code",
   "execution_count": null,
   "metadata": {},
   "outputs": [],
   "source": [
    "epochs = 200\n",
    "\n",
    "model.compile(optimizer='adam',\n",
    "              loss=tf.keras.losses.SparseCategoricalCrossentropy(from_logits=True),\n",
    "              metrics=['accuracy'])\n",
    "\n",
    "history = model.fit(train_images, train_labels, epochs=epochs, \n",
    "                    validation_data=(val_images, val_labels), shuffle=True, class_weights=class_weights)"
   ]
  },
  {
   "cell_type": "code",
   "execution_count": null,
   "metadata": {},
   "outputs": [],
   "source": [
    "acc = history.history['accuracy']\n",
    "val_acc = history.history['val_accuracy']\n",
    "\n",
    "loss = history.history['loss']\n",
    "val_loss = history.history['val_loss']\n",
    "\n",
    "epochs_range = range(epochs)\n",
    "\n",
    "plt.figure(figsize=(8, 8))\n",
    "plt.subplot(1, 2, 1)\n",
    "plt.plot(epochs_range, acc, label='Training Accuracy')\n",
    "plt.plot(epochs_range, val_acc, label='Validation Accuracy')\n",
    "plt.legend(loc='lower right')\n",
    "plt.title('Training and Validation Accuracy')\n",
    "\n",
    "plt.subplot(1, 2, 2)\n",
    "plt.plot(epochs_range, loss, label='Training Loss')\n",
    "plt.plot(epochs_range, val_loss, label='Validation Loss')\n",
    "plt.legend(loc='upper right')\n",
    "plt.title('Training and Validation Loss')\n",
    "plt.show()\n"
   ]
  },
  {
   "cell_type": "code",
   "execution_count": null,
   "metadata": {},
   "outputs": [],
   "source": [
    "print(val_acc)"
   ]
  },
  {
   "cell_type": "code",
   "execution_count": null,
   "metadata": {},
   "outputs": [],
   "source": [
    "test_loss, test_acc = model.evaluate(test_images,  test_labels, verbose=2)\n",
    "print(\"Test data results: \")\n",
    "print(test_acc)"
   ]
  }
 ],
 "metadata": {
  "kernelspec": {
   "display_name": "Python 3.9.7 ('histoquant-cknpwBRB-py3.9')",
   "language": "python",
   "name": "python3"
  },
  "language_info": {
   "codemirror_mode": {
    "name": "ipython",
    "version": 3
   },
   "file_extension": ".py",
   "mimetype": "text/x-python",
   "name": "python",
   "nbconvert_exporter": "python",
   "pygments_lexer": "ipython3",
   "version": "3.9.7"
  },
  "orig_nbformat": 4,
  "vscode": {
   "interpreter": {
    "hash": "689bda845cc3858772ee66d7122f5116724a23904d9fb1584d25d172e693c0e3"
   }
  }
 },
 "nbformat": 4,
 "nbformat_minor": 2
}
