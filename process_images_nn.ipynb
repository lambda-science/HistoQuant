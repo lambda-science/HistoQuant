{
 "cells": [
  {
   "cell_type": "code",
   "execution_count": null,
   "metadata": {},
   "outputs": [],
   "source": [
    "from pathlib import Path\n",
    "Path(\"HistoQuant/nuc_seg/raw/source\").mkdir(parents=True, exist_ok=True)\n",
    "Path(\"HistoQuant/nuc_seg/raw/mask\").mkdir(parents=True, exist_ok=True)\n",
    "Path(\"HistoQuant/nuc_seg/train/source\").mkdir(parents=True, exist_ok=True)\n",
    "Path(\"HistoQuant/nuc_seg/train/mask\").mkdir(parents=True, exist_ok=True)\n",
    "Path(\"HistoQuant/nuc_seg/test/source\").mkdir(parents=True, exist_ok=True)\n",
    "Path(\"HistoQuant/nuc_seg/test/mask\").mkdir(parents=True, exist_ok=True)\n",
    "Path(\"HistoQuant/nuc_seg/results\").mkdir(parents=True, exist_ok=True)\n",
    "Path(\"HistoQuant/nuc_seg/train_aug/source\").mkdir(parents=True, exist_ok=True)\n",
    "Path(\"HistoQuant/nuc_seg/train_aug/mask\").mkdir(parents=True, exist_ok=True)"
   ]
  },
  {
   "cell_type": "code",
   "execution_count": null,
   "metadata": {},
   "outputs": [],
   "source": [
    "import tarfile\n",
    "img_archive = tarfile.open(\"EHRoes/image_data.tar.gz\")\n",
    "img_archive.getmembers()"
   ]
  }
 ],
 "metadata": {
  "interpreter": {
   "hash": "689bda845cc3858772ee66d7122f5116724a23904d9fb1584d25d172e693c0e3"
  },
  "kernelspec": {
   "display_name": "Python 3.9.7 ('histoquant-cknpwBRB-py3.9')",
   "language": "python",
   "name": "python3"
  },
  "language_info": {
   "codemirror_mode": {
    "name": "ipython",
    "version": 3
   },
   "file_extension": ".py",
   "mimetype": "text/x-python",
   "name": "python",
   "nbconvert_exporter": "python",
   "pygments_lexer": "ipython3",
   "version": "3.9.7"
  },
  "orig_nbformat": 4
 },
 "nbformat": 4,
 "nbformat_minor": 2
}
