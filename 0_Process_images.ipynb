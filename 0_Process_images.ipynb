{
 "cells": [
  {
   "cell_type": "code",
   "execution_count": 36,
   "metadata": {},
   "outputs": [],
   "source": [
    "from pathlib import Path\n",
    "Path(\"HistoQuant/nuc_seg/raw/source\").mkdir(parents=True, exist_ok=True)\n",
    "Path(\"HistoQuant/nuc_seg/raw/mask\").mkdir(parents=True, exist_ok=True)\n",
    "Path(\"HistoQuant/nuc_seg/train/source\").mkdir(parents=True, exist_ok=True)\n",
    "Path(\"HistoQuant/nuc_seg/train/mask\").mkdir(parents=True, exist_ok=True)\n",
    "Path(\"HistoQuant/nuc_seg/test/source\").mkdir(parents=True, exist_ok=True)\n",
    "Path(\"HistoQuant/nuc_seg/test/mask\").mkdir(parents=True, exist_ok=True)\n",
    "Path(\"HistoQuant/nuc_seg/results\").mkdir(parents=True, exist_ok=True)\n",
    "Path(\"HistoQuant/nuc_seg/train_aug/source\").mkdir(parents=True, exist_ok=True)\n",
    "Path(\"HistoQuant/nuc_seg/train_aug/mask\").mkdir(parents=True, exist_ok=True)"
   ]
  },
  {
   "cell_type": "code",
   "execution_count": 37,
   "metadata": {},
   "outputs": [],
   "source": [
    "# Extract usefull file from archive\n",
    "import os\n",
    "import tarfile\n",
    "img_archive = tarfile.open(\"EHRoes/image_data.tar.gz\")\n",
    "for file in img_archive.getmembers():\n",
    "    if file.isreg():\n",
    "        file.name = os.path.basename(file.name) \n",
    "        if \".gitkeep\" in file.name: continue\n",
    "        elif \"images_db.csv\" in file.name: continue\n",
    "        elif \"_blend_image.png\" in file.name: continue\n",
    "        elif \"_classifier.pkl\" in file.name: continue\n",
    "        elif \"_mask_annot.json\" in file.name: continue\n",
    "        elif \"_seq_matrix.npy\" in file.name: img_archive.extract(file, \"HistoQuant/nuc_seg/raw/mask\")\n",
    "        elif \"_mask_image.png\" in file.name: img_archive.extract(file, \"HistoQuant/nuc_seg/raw/mask\")\n",
    "        else: img_archive.extract(file, \"HistoQuant/nuc_seg/raw/source\")"
   ]
  },
  {
   "cell_type": "code",
   "execution_count": 38,
   "metadata": {},
   "outputs": [],
   "source": [
    "# Make Tuple of all (source img, mask img, numpy matrix)\n",
    "import glob\n",
    "all_raw = glob.glob(\"HistoQuant/nuc_seg/raw/source/*\")\n",
    "all_mask_img = glob.glob(\"HistoQuant/nuc_seg/raw/mask/*_mask_image.png\")\n",
    "all_mask_matrix = glob.glob(\"HistoQuant/nuc_seg/raw/mask/*.npy\")\n",
    "all_data_tuple = []\n",
    "for i in range(len(all_mask_img)):\n",
    "    all_data_tuple.append((all_raw[i], all_mask_img[i], all_mask_matrix[i]))"
   ]
  },
  {
   "cell_type": "code",
   "execution_count": 39,
   "metadata": {},
   "outputs": [],
   "source": [
    "from sklearn.model_selection import train_test_split\n",
    "\n",
    "train, test = train_test_split(all_data_tuple, train_size=0.70, random_state=42)"
   ]
  },
  {
   "cell_type": "code",
   "execution_count": 40,
   "metadata": {},
   "outputs": [],
   "source": [
    "import shutil\n",
    "from PIL import Image, ImageOps\n",
    "\n",
    "# Extract Images and convert all to same format, same name different folder\n",
    "\n",
    "for data_tuple in train:\n",
    "    raw = data_tuple[0]\n",
    "    mask = data_tuple[1]\n",
    "    npy_matrix = data_tuple[2]\n",
    "    filename = raw.split(\"/\")[-1] # Remove full path\n",
    "    filename = filename.split(\".\")[0] # Remove extension\n",
    "    filename = filename + \".png\" # Add extension\n",
    "\n",
    "    with Image.open(raw) as im:\n",
    "        gray_image = ImageOps.grayscale(im)\n",
    "        gray_image.save(\"HistoQuant/nuc_seg/train/source/\" + filename, \"PNG\")\n",
    "    with Image.open(mask) as im:\n",
    "        rgb_im = im.convert('RGB')\n",
    "        gray_image = ImageOps.grayscale(rgb_im)\n",
    "        gray_image.save(\"HistoQuant/nuc_seg/train/mask/\" + filename, \"PNG\")\n",
    "        \n",
    "    #shutil.copy(npy_matrix, \"HistoQuant/nuc_seg/train/mask\")\n",
    "\n",
    "for data_tuple in test:\n",
    "    raw = data_tuple[0]\n",
    "    mask = data_tuple[1]\n",
    "    npy_matrix = data_tuple[2]\n",
    "    filename = raw.split(\"/\")[-1] # Remove full path\n",
    "    filename = filename.split(\".\")[0] # Remove extension\n",
    "    filename = filename + \".png\" # Add extension\n",
    "\n",
    "    with Image.open(raw) as im:\n",
    "        gray_image = ImageOps.grayscale(im)\n",
    "        gray_image.save(\"HistoQuant/nuc_seg/test/source/\" + filename, \"PNG\")\n",
    "    with Image.open(mask) as im:\n",
    "        rgb_im = im.convert('RGB')\n",
    "        gray_image = ImageOps.grayscale(rgb_im)\n",
    "        gray_image.save(\"HistoQuant/nuc_seg/test/mask/\" + filename, \"PNG\")\n",
    "    # shutil.copy(npy_matrix, \"HistoQuant/nuc_seg/test/mask\")"
   ]
  }
 ],
 "metadata": {
  "interpreter": {
   "hash": "689bda845cc3858772ee66d7122f5116724a23904d9fb1584d25d172e693c0e3"
  },
  "kernelspec": {
   "display_name": "Python 3.9.7 ('histoquant-cknpwBRB-py3.9')",
   "language": "python",
   "name": "python3"
  },
  "language_info": {
   "codemirror_mode": {
    "name": "ipython",
    "version": 3
   },
   "file_extension": ".py",
   "mimetype": "text/x-python",
   "name": "python",
   "nbconvert_exporter": "python",
   "pygments_lexer": "ipython3",
   "version": "3.9.7"
  },
  "orig_nbformat": 4
 },
 "nbformat": 4,
 "nbformat_minor": 2
}
