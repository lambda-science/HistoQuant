{
 "cells": [
  {
   "cell_type": "code",
   "execution_count": null,
   "metadata": {},
   "outputs": [],
   "source": [
    "import numpy as np\n",
    "import matplotlib.pyplot as plt\n",
    "import skimage.io\n",
    "from cellpose import models, io, core\n",
    "import pandas as pd\n",
    "from numpy import isnan\n",
    "import os.path\n",
    "\n",
    "if core.use_gpu()==False: \n",
    "  #Warnings from the ZeroCost StarDist notebook\n",
    "  print('You do not have GPU access.')\n",
    "  print('Did you change your runtime ?') \n",
    "  print('If the runtime setting is correct then Google did not allocate a GPU for your session')\n",
    "  print('Expect slow performance. To access GPU try reconnecting later')\n",
    "  use_GPU=False\n",
    "else:\n",
    "  print(\"You have access to the GPU.\"+\"\\nDetails are:\")\n",
    "  print(\"*************************************************\")\n",
    "  use_GPU=True"
   ]
  },
  {
   "cell_type": "code",
   "execution_count": null,
   "metadata": {},
   "outputs": [],
   "source": [
    "save_dir = \"data/results/seg/\"\n",
    "img_dir = \"data/images/\"\n",
    "base_dir = \"data/\"\n",
    "model_cyto2 = models.Cellpose(gpu=use_GPU, model_type='cyto2')\n",
    "df = pd.read_csv(base_dir+\"muscle_atlas_2_7_filt_triple.csv\")\n",
    "img_list = df[\"Number\"].tolist()\n",
    "channel = [[0, 0]]"
   ]
  },
  {
   "cell_type": "code",
   "execution_count": null,
   "metadata": {},
   "outputs": [],
   "source": [
    "for index, file in enumerate(img_list):\n",
    "  print(\"Segmenting: \", file)\n",
    "  if os.path.isfile(save_dir + \"MASK_\" + file + \".png\"):\n",
    "      print(file, \" already segmented, passing...\")\n",
    "      continue\n",
    "  img = skimage.io.imread(img_dir+file)\n",
    "  # mask, flow, style, diam = model_cyto2.eval(img, diameter=calib_50um[index], channels=[[0,0]])\n",
    "  mask, flow, style, diam = model_cyto2.eval(img, diameter=None, channels=channel)\n",
    "  # save images in folder with the diameter value used in cellpose\n",
    "  print(\"Segmentation complete . Saving Masks and flows\")\n",
    "  # Output name for masks\n",
    "  mask_output_name = save_dir + \"MASK_\" + file + \".png\"\n",
    "  # Save mask as 16-bit in case this has to be used for detecting than 255 objects\n",
    "  mask = mask.astype(np.uint16)\n",
    "  plt.imsave(mask_output_name, mask)\n",
    "  # Save Numpy Mask Array\n",
    "  np.savez_compressed(save_dir+file+\".npz\", mask=mask, diam=diam, channel=channel)"
   ]
  }
 ],
 "metadata": {
  "interpreter": {
   "hash": "211477a1be22ecd6323577a583bfc9266ebd26beaab9136c9caa666210513da0"
  },
  "kernelspec": {
   "display_name": "Python 3.9.7 ('img-explore-dHQUGiWh-py3.9')",
   "language": "python",
   "name": "python3"
  },
  "language_info": {
   "codemirror_mode": {
    "name": "ipython",
    "version": 3
   },
   "file_extension": ".py",
   "mimetype": "text/x-python",
   "name": "python",
   "nbconvert_exporter": "python",
   "pygments_lexer": "ipython3",
   "version": "3.9.7"
  },
  "orig_nbformat": 4
 },
 "nbformat": 4,
 "nbformat_minor": 2
}
