{
 "cells": [
  {
   "cell_type": "code",
   "execution_count": null,
   "metadata": {},
   "outputs": [],
   "source": [
    "# Load Data\n",
    "import pandas as pd\n",
    "df = pd.read_excel(\"HistoQuant/muscle_atlas_2_7.xlsx\", \"Atlas 1\")\n",
    "df_text = pd.read_csv(\"EHRoes/text_reports.csv\")\n",
    "\n",
    "# Add Biopsy ID Col to Excel\n",
    "filename_list = df[\"File name\"].to_list()\n",
    "patient_ID = []\n",
    "for index, value in enumerate(filename_list):\n",
    "    if isinstance(value, str):    \n",
    "        if value.split(\" \")[0] == str(df.iloc[index,0]):\n",
    "            patient_ID.append(value.split(\" \")[1])\n",
    "        else: \n",
    "            patient_ID.append(value.split(\" \")[0])\n",
    "    else:\n",
    "        patient_ID.append(\"\")\n",
    "df[\"biopsy_ID\"] = patient_ID\n",
    "\n",
    "# DF Homo Sapiens\n",
    "df_homo = df[df[\"Organism\"] == \"Homo sapiens\"]\n",
    "\n",
    "# DF Coloration\n",
    "#coloration = [\"ATP 9.4\", \"COX\", \"COX/SDH\", \"HE\",\"TEM\",\"TG\", \"NADH\", \"PAS\", \"SDH\"]\n",
    "coloration = [\"ATP 9.4\", \"COX\", \"COX/SDH\", \"HE\",\"TG\", \"NADH\", \"PAS\", \"SDH\"]\n",
    "df_color = df[df[\"Staining method\"].isin(coloration)] \n",
    "# DF Congenital Myopthy\n",
    "df_myocon = df[df[\"Disease Group\"] == \"Congenital Myopathies\"]\n",
    "\n",
    "# Diagram de Venn: Myopathy Cong + Coloration de choix + Homme \n",
    "\n",
    "# Valeur Recouvrement ID Biop & Images\n",
    "biopid_list = df_text[\"biopsie_id\"].to_list()\n",
    "biopid = []\n",
    "for index, value in enumerate(biopid_list):\n",
    "    if isinstance(value, str):\n",
    "        val_split1 = value.split(\"-\")\n",
    "        val_split2 = val_split1[0].split(\"/\")\n",
    "        biopid.append(val_split2[0])\n",
    "    else:\n",
    "        biopid.append(\"\")\n",
    "df_text[\"biopsie_id\"] = biopid\n",
    "merged_df = pd.merge(df_myocon, df_text, how=\"right\", right_on=\"biopsie_id\", left_on=\"biopsy_ID\")\n",
    "couple_txt_img = merged_df.dropna(subset = [\"ordered\"])\n",
    "print(\"Total number of images: \", len(df))\n",
    "print(\"#####\")\n",
    "print(\"Total number of myo.con img: \", len(df_myocon))\n",
    "print(\"Total number of stain img: \", len(df_color))\n",
    "print(\"Total number of homo sap: \", len(df_homo))\n",
    "print(\"#####\")\n",
    "print(\"Total number of reports: \", len(df_text))\n",
    "print(\"Total number of images of reports: \", len(couple_txt_img[\"patient_id\"]))\n",
    "print(\"Total number of report with images: \", len(couple_txt_img[\"patient_id\"].unique()))\n",
    "print(\"#####\")\n",
    "print(\"Total number of myo.con+stain: \", len(pd.merge(df_myocon, df_color, how=\"inner\")))\n",
    "print(\"Total number of myo.con+homo: \", len(pd.merge(df_myocon, df_homo, how=\"inner\")))\n",
    "print(\"Total number of stain+homo: \", len(pd.merge(df_color, df_homo, how=\"inner\")))\n",
    "df_merge_color_homo = pd.merge(df_color, df_homo, how=\"inner\")\n",
    "print(\"#####\")\n",
    "print(\"Total number of myo.con+stain+homo: \", len(pd.merge(df_merge_color_homo, df_myocon, how=\"inner\")))"
   ]
  },
  {
   "cell_type": "code",
   "execution_count": null,
   "metadata": {},
   "outputs": [],
   "source": [
    "import matplotlib.pyplot as plt\n",
    "from upsetplot import from_memberships, UpSet\n",
    "\n",
    "triple_count = len(pd.merge(df_merge_color_homo, df_myocon, how=\"inner\"))\n",
    "color_homo = len(pd.merge(df_color, df_homo, how=\"inner\")) - triple_count\n",
    "myocon_homo = len(pd.merge(df_myocon, df_homo, how=\"inner\")) - triple_count\n",
    "myocon_color = len(pd.merge(df_myocon, df_color, how=\"inner\")) - triple_count\n",
    "homo = len(df_homo) - triple_count - color_homo - myocon_homo\n",
    "myocon = len(df_myocon) - triple_count - myocon_homo - myocon_color\n",
    "color = len(df_color) - triple_count - myocon_color - color_homo\n",
    "no_cat = len(df) - sum([triple_count, color_homo, myocon_homo, homo, myocon, color])\n",
    "\n",
    "plt.rcParams[\"figure.figsize\"] = (10,10)\n",
    "example = from_memberships(\n",
    "    [[],\n",
    "    [\"Myo. Congénitale\"],\n",
    "    [\"Homo sapiens\"],\n",
    "    [\"Coloration dans Rapport\"],\n",
    "    [\"Myo. Congénitale\", \"Homo sapiens\"],\n",
    "    [\"Coloration dans Rapport\", \"Homo sapiens\"],\n",
    "    [\"Myo. Congénitale\", \"Coloration dans Rapport\"],\n",
    "    [\"Myo. Congénitale\", \"Coloration dans Rapport\", \"Homo sapiens\"]\n",
    "    ], \n",
    "    data=[no_cat, myocon, homo, color, myocon_homo, color_homo, myocon_color, triple_count]\n",
    "    )\n",
    "upset = UpSet(example, show_counts='%d')\n",
    "upset.style_subsets(present=[\"Myo. Congénitale\", \"Homo sapiens\"],\n",
    "                    facecolor=\"red\",\n",
    "                    label=\"90% EM\")\n",
    "upset.style_subsets(present=[\"Myo. Congénitale\", \"Coloration dans Rapport\", \"Homo sapiens\"],\n",
    "                    facecolor=\"blue\")\n",
    "upset.plot()\n",
    "plt.suptitle(\"Muscle Atlas Image Count (n=5470)\")\n",
    "plt.savefig(\"muscle_atlas_summary.jpg\",dpi=300)\n",
    "plt.show()"
   ]
  },
  {
   "cell_type": "code",
   "execution_count": null,
   "metadata": {},
   "outputs": [],
   "source": [
    "muscle_triple_filt = pd.merge(df_merge_color_homo, df_myocon, how=\"inner\")\n",
    "#muscle_triple_filt.to_csv(\"data/muscle_atlas_2_7_filt_triple.csv\", index=False)"
   ]
  },
  {
   "cell_type": "code",
   "execution_count": null,
   "metadata": {},
   "outputs": [],
   "source": [
    "import os\n",
    "import shutil\n",
    "muscle_triple_filt = pd.merge(df_merge_color_homo, df_myocon, how=\"inner\")\n",
    "he_files = muscle_triple_filt[muscle_triple_filt[\"Staining method\"]==\"HE\"][\"Number\"].to_list()\n",
    "for file in he_files:\n",
    "    shutil.copyfile(os.path.join(\"HistoQuant\",\"raw\",file), os.path.join(\"HistoQuant\",\"he_only\",file))\n"
   ]
  },
  {
   "cell_type": "code",
   "execution_count": null,
   "metadata": {},
   "outputs": [],
   "source": [
    "import random\n",
    "random_subset = random.sample(he_files, 100)\n",
    "train_subset = random_subset[:50]\n",
    "test_subset = random_subset[50:]\n",
    "for file in train_subset:\n",
    "    shutil.copyfile(os.path.join(\"HistoQuant\",\"he_only\",file), os.path.join(\"HistoQuant\",\"he_train\",file))\n",
    "for file in test_subset:\n",
    "    shutil.copyfile(os.path.join(\"HistoQuant\",\"he_only\",file), os.path.join(\"HistoQuant\",\"he_test\",file))\n"
   ]
  }
 ],
 "metadata": {
  "interpreter": {
   "hash": "211477a1be22ecd6323577a583bfc9266ebd26beaab9136c9caa666210513da0"
  },
  "kernelspec": {
   "display_name": "Python 3.9.7 ('img-explore-dHQUGiWh-py3.9')",
   "language": "python",
   "name": "python3"
  },
  "language_info": {
   "codemirror_mode": {
    "name": "ipython",
    "version": 3
   },
   "file_extension": ".py",
   "mimetype": "text/x-python",
   "name": "python",
   "nbconvert_exporter": "python",
   "pygments_lexer": "ipython3",
   "version": "3.9.7"
  },
  "orig_nbformat": 4
 },
 "nbformat": 4,
 "nbformat_minor": 2
}
