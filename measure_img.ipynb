{
 "cells": [
  {
   "cell_type": "code",
   "execution_count": null,
   "metadata": {},
   "outputs": [],
   "source": []
  }
 ],
 "metadata": {
  "interpreter": {
   "hash": "211477a1be22ecd6323577a583bfc9266ebd26beaab9136c9caa666210513da0"
  },
  "kernelspec": {
   "display_name": "Python 3.9.7 ('img-explore-dHQUGiWh-py3.9')",
   "language": "python",
   "name": "python3"
  },
  "language_info": {
   "name": "python",
   "version": "3.9.7"
  },
  "orig_nbformat": 4
 },
 "nbformat": 4,
 "nbformat_minor": 2
}
